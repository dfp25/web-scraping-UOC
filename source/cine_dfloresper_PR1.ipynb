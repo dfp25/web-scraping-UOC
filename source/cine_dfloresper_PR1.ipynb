{
 "cells": [
  {
   "cell_type": "markdown",
   "id": "2d9791b4-63d0-4e08-aa9a-a543ffea824e",
   "metadata": {},
   "source": [
    "# Configuración del entorno"
   ]
  },
  {
   "cell_type": "markdown",
   "id": "6d954097-8a25-4869-bc13-803dc935171b",
   "metadata": {
    "editable": true,
    "slideshow": {
     "slide_type": ""
    },
    "tags": []
   },
   "source": [
    "## Importación de paquetes"
   ]
  },
  {
   "cell_type": "code",
   "execution_count": 1,
   "id": "2cf6348c-eae0-4665-9739-6a463e9d6808",
   "metadata": {
    "editable": true,
    "slideshow": {
     "slide_type": ""
    },
    "tags": []
   },
   "outputs": [],
   "source": [
    "import numpy as np\n",
    "import os\n",
    "import pandas as pd\n",
    "import re\n",
    "import requests\n",
    "import time\n",
    "from bs4 import BeautifulSoup\n",
    "from selenium import webdriver\n",
    "from selenium.webdriver.common.by import By"
   ]
  },
  {
   "cell_type": "markdown",
   "id": "12850053-c945-4749-8f57-25c5078a8792",
   "metadata": {},
   "source": [
    "## Directorio de trabajo"
   ]
  },
  {
   "cell_type": "code",
   "execution_count": 2,
   "id": "ac03069e-b3a8-4a59-b16b-35c7707061c5",
   "metadata": {},
   "outputs": [],
   "source": [
    "# Directorio de trabajo actual\n",
    "dir_actual = os.getcwd()\n",
    "\n",
    "# Cambio a directorio actual\n",
    "os.chdir(dir_actual)"
   ]
  },
  {
   "cell_type": "markdown",
   "id": "a83b440b-eebc-430c-a87a-72096e7e8175",
   "metadata": {},
   "source": [
    "# Datos Premios Goya"
   ]
  },
  {
   "cell_type": "markdown",
   "id": "0374a563-e4be-4c68-b524-1fd9fcf2d65e",
   "metadata": {},
   "source": [
    "## Manejar ventana de aceptar cookies"
   ]
  },
  {
   "cell_type": "markdown",
   "id": "a1c66a30-5279-4602-a043-39e51cdc9b3c",
   "metadata": {},
   "source": [
    "Gestionar la aparición de cookies en el primer acceso al site."
   ]
  },
  {
   "cell_type": "code",
   "execution_count": 3,
   "id": "1ef7ebd2-8601-48c1-891e-1c9e7d5ec7bb",
   "metadata": {
    "editable": true,
    "slideshow": {
     "slide_type": ""
    },
    "tags": []
   },
   "outputs": [],
   "source": [
    "def manejar_cookies():\n",
    "    \"\"\"\n",
    "    Esta función maneja la el aviso de cookies de la página web.\n",
    "    \n",
    "    Espera 3 segundos para permitir que la página cargue completamente,  busca el botón de\n",
    "    \"NO ACEPTO\" para las cookies y hace clic en él. Si el botón no se encuentra, se imprime\n",
    "    un mensaje de aviso.\n",
    "\n",
    "    Returns:\n",
    "        None: No devuelve ningún valor, solo sirve para saltar las cookies.\n",
    "    \"\"\"\n",
    "    try:\n",
    "        # Espera 3 segundos\n",
    "        time.sleep(3)\n",
    "\n",
    "        # Clic sobre el botón de no aceptar cookies\n",
    "        boton = driver.find_element(By.XPATH, \"//button[span[text()='NO ACEPTO']]\")\n",
    "        boton.click()\n",
    "\n",
    "        # Espera 3 segundos\n",
    "        time.sleep(3)\n",
    "        return\n",
    "\n",
    "    except:\n",
    "        print(\"Botón de cookies no encontrado\")\n",
    "        \n",
    "        return"
   ]
  },
  {
   "cell_type": "markdown",
   "id": "16431ca0-ad5e-485e-84ce-212e7ff40068",
   "metadata": {},
   "source": [
    "## Datos 1"
   ]
  },
  {
   "cell_type": "markdown",
   "id": "e184c6ef-ed07-4a0a-92bb-67a7e04404e5",
   "metadata": {},
   "source": [
    "Título de la película ganadora, títulos de las nominadas y número de nominaciones de las películas."
   ]
  },
  {
   "cell_type": "code",
   "execution_count": 4,
   "id": "2f1edc72-666d-4980-91fb-a0e6fc516583",
   "metadata": {
    "editable": true,
    "slideshow": {
     "slide_type": ""
    },
    "tags": []
   },
   "outputs": [],
   "source": [
    "def datos1():\n",
    "    \"\"\"\n",
    "    Extrae los datos de películas nominadas y ganadoras de los premios Goya.\n",
    "\n",
    "    Utiliza un objeto de beautifulsoup ('html1') para obtener información sobre las películas nominadas\n",
    "    y la ganadora en la categoría de Mejor Película. Recopila los títulos de las películas, el número\n",
    "    de nominaciones de cada una y un indicador de si la película ganó o no.\n",
    "\n",
    "    Returns:\n",
    "        tuple: Una tupla con tres listas:\n",
    "            - tp (list of str): Títulos de las películas nominadas y la ganadora.\n",
    "            - nomi (list of str): Número de nominaciones de cada película.\n",
    "            - gdor (list of int): Indicadores de ganadora (1 para la ganadora, 0 si no ganó).\n",
    "    \"\"\"\n",
    "    # Listas para títulos y nominaciones recibidas\n",
    "    tp, nomi = [], []\n",
    "    \n",
    "    # Título de la película ganadora del Goya\n",
    "    tp.append(html1.find(id='goya_best_picture').parent.select('span.movie-title-link')[0].text.strip())\n",
    "\n",
    "    # Título de las películas nominadas\n",
    "    for n in html1.find(id='goya_best_picture').parent.select('span.movie-title-link')[1:]:\n",
    "        tp.append(n.a.text.strip())\n",
    "\n",
    "    # Nominaciones de todas las películas finalistas incluida la ganadora\n",
    "    for m in html1.find(id='goya_best_picture').parent.select('div.nom-wins'):\n",
    "        if m.b == None:\n",
    "            nomi.append('0')\n",
    "            continue\n",
    "        nomi.append(m.b.text)\n",
    "\n",
    "    # Lista con ganador (1) o no (0)\n",
    "    gdor = [1] + [0] * (len(tp) - 1)\n",
    "    \n",
    "    return tp, nomi, gdor"
   ]
  },
  {
   "cell_type": "markdown",
   "id": "5af23249-4877-495d-8316-60bca035f92a",
   "metadata": {
    "editable": true,
    "slideshow": {
     "slide_type": ""
    },
    "tags": []
   },
   "source": [
    "## Datos 2"
   ]
  },
  {
   "cell_type": "markdown",
   "id": "5a30a412-2cf5-4ee9-a889-16361b6a645c",
   "metadata": {},
   "source": [
    "Puntuación media, número de votos, número de críticas y si es una coproducción o no.\n",
    "\n",
    "Se puede mejorar la espera de carga de las páginas web con EC (espera de condiciones) de Selenium, para tampoco hay tantos datos que scrapear, pero la página carga muy rápido, no tiene elmentos raros y no son muchos datos a recolectar como para resultar en una demanda abusiva."
   ]
  },
  {
   "cell_type": "code",
   "execution_count": 50,
   "id": "cdcd8278-57a4-4d0b-bffd-da4344cda6d0",
   "metadata": {
    "editable": true,
    "slideshow": {
     "slide_type": ""
    },
    "tags": []
   },
   "outputs": [],
   "source": [
    "def datos2():\n",
    "    \"\"\"\n",
    "    Extrae datos adicionales a \"datos1\" de una segunda página de una película.\n",
    "\n",
    "    Obtiene información sobre su puntuación, cantidad de votos, número de críticas,\n",
    "    si es una coproducción y sus géneros principales. La función utiliza el controlador\n",
    "    'driver' para obtener algunos elementos de la página y 'html2' para seleccionar\n",
    "    géneros y verificar si es una coproducción.\n",
    "\n",
    "    Returns:\n",
    "        list: Una lista con los siguientes elementos:\n",
    "            - puntuacion (str): Puntuación promedio de la película.\n",
    "            - votos (str): Número total de votos recibidos por la película.\n",
    "            - criticas (str): Número de críticas escritas sobre la película.\n",
    "            - coproduccion (int): Indicador de coproducción (1 si es coproducción, 0 si no lo es).\n",
    "            - genero (list of str): Lista de géneros principales asociados a la película.\n",
    "    \"\"\"\n",
    "    # Puntuación promedio (Selenium)\n",
    "    puntuacion = driver.find_element(By.CSS_SELECTOR, '#movie-rat-avg').text.replace(\",\", \".\")\n",
    "\n",
    "    # Número de votos (Selenium)\n",
    "    votos = driver.find_element(By.CSS_SELECTOR, '#movie-count-rat > span').text.replace(\".\", \"\")\n",
    "\n",
    "    # Número de críticas (Selenium)\n",
    "    criticas = driver.find_element(By.CSS_SELECTOR, '#movie-reviews-box').text.split()[0]\n",
    "\n",
    "    # Si es coproducción o no (Beautiful Soup)\n",
    "    coproduccion = [1 if \"Coproducción\" in i.text else 0 for i in html2.select('dd.card-producer')]\n",
    "    if 1 in coproduccion:\n",
    "        coproduccion = 1\n",
    "    else:\n",
    "        coproduccion = 0\n",
    "    \n",
    "    # Lista de géneros principales (Beautiful Soup)\n",
    "    genero = [i.text for i in html2.select('dd span[itemprop=\"genre\"]')]\n",
    "    \n",
    "    return [puntuacion, votos, criticas, coproduccion, genero]"
   ]
  },
  {
   "cell_type": "markdown",
   "id": "bc44a287-8be3-437b-bec0-da828ac686a5",
   "metadata": {},
   "source": [
    "## Rutina principal"
   ]
  },
  {
   "cell_type": "markdown",
   "id": "9aa808e1-c7ae-4a05-b415-f6e2626931e7",
   "metadata": {},
   "source": [
    "Iteración sobre cada uno de los años en que se celebran los premios Goya para extraer los 2 bloques de datos"
   ]
  },
  {
   "cell_type": "code",
   "execution_count": 51,
   "id": "36ca7b3b-9740-40c1-9e25-52648bd8f44d",
   "metadata": {
    "editable": true,
    "slideshow": {
     "slide_type": ""
    },
    "tags": []
   },
   "outputs": [],
   "source": [
    "# Listas iniciales\n",
    "ttl, nmn, gnd, yr = [], [], [], []\n",
    "dts2 = []\n",
    "\n",
    "# Abrir Chrome y manejar cookies\n",
    "driver = webdriver.Chrome()\n",
    "driver.get(\"https://www.filmaffinity.com/es/award_data.php?award_id=goya\")\n",
    "manejar_cookies()\n",
    "\n",
    "# Cargar páginas años\n",
    "for ed in range(1987, 2025):\n",
    "    driver.get(\"https://www.filmaffinity.com/es/awards.php?award_id=goya&year=\" + str(ed))\n",
    "\n",
    "    # Espera 2 segundos\n",
    "    time.sleep(2)\n",
    "\n",
    "    # Bloque 1 de datos\n",
    "    html1 = BeautifulSoup(driver.page_source, 'html.parser')\n",
    "    titulo, nominaciones, ganador = datos1()\n",
    "    year = [ed] * len(titulo)\n",
    "    \n",
    "    # Unión de listas del bloque 1\n",
    "    ttl.extend(titulo)\n",
    "    nmn.extend(nominaciones)\n",
    "    gnd.extend(ganador)\n",
    "    yr.extend(year)\n",
    "\n",
    "    # Bloque 2 de datos\n",
    "    for ti in titulo:\n",
    "        link = html1.find(id='goya_best_picture').parent.find(\n",
    "            href=True, string=re.compile(ti.split(\"(\")[0].strip())).get('href')\n",
    "        driver.get(\"https://www.filmaffinity.com/es/film\" + link[link.rfind(\"=\")+1:] + \".html\")\n",
    "        time.sleep(2)  # Espera 2 segundos.\n",
    "        html2 = BeautifulSoup(driver.page_source, 'html.parser')\n",
    "        dts2.append(datos2())\n",
    "\n",
    "# Unir datos\n",
    "d = {'ganador': gnd, 'titulo': ttl, 'year': yr, 'nominaciones': nmn}\n",
    "df1 = pd.DataFrame(d)\n",
    "df2 = pd.DataFrame(dts2, columns=['puntuacion', 'votos', 'criticas', 'coproduccion', 'genero'])\n",
    "df = df1.join(df2)\n",
    "\n",
    "# Cerrar driver\n",
    "driver.close()\n",
    "\n",
    "# Guardar tabla de datos\n",
    "df.to_csv('df_goyas_data.csv', index=False)"
   ]
  },
  {
   "cell_type": "markdown",
   "id": "3db7e270-5142-40e6-b7e7-8d29707a5a21",
   "metadata": {},
   "source": [
    "# Datos Premios Feroz"
   ]
  },
  {
   "cell_type": "markdown",
   "id": "79691679-1fea-43fe-ab46-15f93881a043",
   "metadata": {},
   "source": [
    "## Generación de lista de etiquetas para ganadores y nominados"
   ]
  },
  {
   "cell_type": "markdown",
   "id": "60874b3f-837a-4bb2-b852-03f2ffd1d0cc",
   "metadata": {},
   "source": [
    "Crear una lista de etiquetas para identificar ganadores y nominados para los diferentes premios que se vayan scrapeando."
   ]
  },
  {
   "cell_type": "code",
   "execution_count": 8,
   "id": "5811f598-f958-47c9-b7da-a42d31c1ab9e",
   "metadata": {},
   "outputs": [],
   "source": [
    "def ganador_nominado(titulos):\n",
    "    \"\"\"\n",
    "    Crea una lista de etiquetas que identifica el primer título como \"ganador\" y los demás como \"nominado\".\n",
    "\n",
    "    Parameters:\n",
    "        titulos (list): Lista de títulos. El primer elemento es el ganador y el resto son nominados.\n",
    "\n",
    "    Returns:\n",
    "        list: Lista de etiquetas donde el primer elemento es \"ganador\" y el resto es \"nominado\".\n",
    "    \"\"\"\n",
    "    return [\"ganador\"] + [\"nominado\"] * (len(titulos) - 1)"
   ]
  },
  {
   "cell_type": "markdown",
   "id": "7a8c8fe8-a738-44b7-af38-82141e91dd03",
   "metadata": {},
   "source": [
    "## Función de recolección de datos"
   ]
  },
  {
   "cell_type": "markdown",
   "id": "f6f478a1-a09a-41dd-95d9-6d569473f149",
   "metadata": {
    "editable": true,
    "slideshow": {
     "slide_type": ""
    },
    "tags": []
   },
   "source": [
    "Los datos de los premios Feroz incluidos son los títulos de las películas finalistas en las categorías de drama y comedia, y si la película es ganador o nominado en cada categoría."
   ]
  },
  {
   "cell_type": "code",
   "execution_count": 9,
   "id": "82a02270-4a38-4be0-b262-8bf11bed1017",
   "metadata": {
    "editable": true,
    "slideshow": {
     "slide_type": ""
    },
    "tags": []
   },
   "outputs": [],
   "source": [
    "def datos_feroz():\n",
    "    \"\"\"\n",
    "    Extrae los títulos y el estado de ganador/nominado para las categorías de drama y comedia de los premios Feroz.\n",
    "\n",
    "    Returns:\n",
    "        tuple: Contiene cuatro listas en el siguiente orden:\n",
    "            - tp_drama (list of str): Títulos de películas de tipo drama.\n",
    "            - gdor_drama (list of str): Estado ('ganador' o 'nominado') de cada título en 'tp_drama'.\n",
    "            - tp_comedia (list of str): Títulos de películas de tipo comedia.\n",
    "            - gdor_comedia (list of str): Estado ('ganador' o 'nominado') de cada título en 'tp_comedia'.\n",
    "    \"\"\"\n",
    "    # Búsqueda de ganadores y nominados por categoría drama\n",
    "    tp_drama = [d.text.strip() for d in html1.find(id='feroz_mejor_pelicula_drama').parent.select('span.movie-title-link')]\n",
    "    gdor_drama = ganador_nominado(tp_drama)\n",
    "\n",
    "    # Búsqueda de ganadores y nominados por categoría comedia\n",
    "    tp_comedia = [c.text.strip() for c in html1.find(id='feroz_mejor_comedia').parent.select('span.movie-title-link')]\n",
    "    gdor_comedia = ganador_nominado(tp_comedia)\n",
    "\n",
    "    return tp_drama, gdor_drama, tp_comedia, gdor_comedia"
   ]
  },
  {
   "cell_type": "markdown",
   "id": "c91e4fb3-c50d-4a15-b971-068d203c50b8",
   "metadata": {},
   "source": [
    "## Rutina principal Premios Feroz"
   ]
  },
  {
   "cell_type": "markdown",
   "id": "340717b8-a567-476a-8da9-b69023b3ad9a",
   "metadata": {},
   "source": [
    "Iteración sobre cada uno de los años en que se han otorgado los premios Feroz."
   ]
  },
  {
   "cell_type": "code",
   "execution_count": 10,
   "id": "e54eea39-c09b-4340-b269-a148a4e56cab",
   "metadata": {
    "editable": true,
    "slideshow": {
     "slide_type": ""
    },
    "tags": []
   },
   "outputs": [],
   "source": [
    "# Listas iniciales\n",
    "drama_feroz, comedia_feroz, gs_drama, gs_comedia = [], [], [], []\n",
    "\n",
    "# Abrir driver y manejar cookies\n",
    "driver = webdriver.Chrome()\n",
    "driver.get(\"https://www.filmaffinity.com/es/award_data.php?award_id=feroz\")\n",
    "manejar_cookies()\n",
    "\n",
    "# Cargar páginas años\n",
    "for ed in range(2014, 2025):\n",
    "    driver.get(\"https://www.filmaffinity.com/es/awards.php?award_id=feroz&year=\" + str(ed))\n",
    "\n",
    "    # Espera 2 segundos\n",
    "    time.sleep(2)\n",
    "\n",
    "    # Datos Premios Feroz\n",
    "    html1 = BeautifulSoup(driver.page_source, 'html.parser')\n",
    "    dr_feroz, g_dr_feroz, co_feroz, g_co_feroz = datos_feroz()\n",
    "\n",
    "    # Unión de listas Premios Feroz\n",
    "    drama_feroz.extend(dr_feroz)\n",
    "    comedia_feroz.extend(co_feroz)\n",
    "    gs_drama.extend(g_dr_feroz)\n",
    "    gs_comedia.extend(g_co_feroz)\n",
    "\n",
    "# Cerrar driver\n",
    "driver.close()"
   ]
  },
  {
   "cell_type": "markdown",
   "id": "b71806b9-0e6f-4112-93ac-185c436387a7",
   "metadata": {},
   "source": [
    "## Unión de datos Feroz y Goya"
   ]
  },
  {
   "cell_type": "markdown",
   "id": "cebfdc35-5101-448d-b4de-f5948162007d",
   "metadata": {},
   "source": [
    "Coordinación y unión de los datos de los premios Goya (obtenidos anteriormente) y Feroz."
   ]
  },
  {
   "cell_type": "code",
   "execution_count": 53,
   "id": "d2df2c6f-4524-481f-b0b2-b0db14a3df5d",
   "metadata": {},
   "outputs": [],
   "source": [
    "# Coordinación con Premios Goya\n",
    "df = pd.read_csv('df_goyas_data.csv')\n",
    "dra, com = [], []\n",
    "fedrlow = [t.lower() for t in drama_feroz]\n",
    "fecolow = [t.lower() for t in comedia_feroz]\n",
    "for i in df.titulo.tolist():\n",
    "    if i.lower() in fedrlow:\n",
    "        dra.extend([gs_drama[drama_feroz.index(i)]])\n",
    "    else:\n",
    "        dra.extend([\"no_clasificado\"])\n",
    "    if i.lower() in fecolow:\n",
    "        com.extend([gs_comedia[comedia_feroz.index(i)]])\n",
    "    else:\n",
    "        com.extend([\"no_clasificado\"])\n",
    "\n",
    "# Unión Premios Feroz a Premios Goya\n",
    "df['feroz_drama'] = dra\n",
    "df['feroz_comedia'] = com\n",
    "\n",
    "# Guardar tabla de datos Goya + Feroz\n",
    "df.to_csv('df_goyas_feroz_data.csv', index=False)"
   ]
  },
  {
   "cell_type": "markdown",
   "id": "e93bdee1-af90-4ca0-b13e-cd04c23ad37d",
   "metadata": {},
   "source": [
    "# Datos Premios Forqué"
   ]
  },
  {
   "cell_type": "markdown",
   "id": "93a3e92e-8f1e-4e9e-80a7-9eb2a8ab8b4d",
   "metadata": {},
   "source": [
    "Se celebran en diciembre y premian a las películas del año que termina."
   ]
  },
  {
   "cell_type": "markdown",
   "id": "b7815698-b738-458a-a058-ce2160c2f4a7",
   "metadata": {},
   "source": [
    "## Recolección datos Premios Forqué"
   ]
  },
  {
   "cell_type": "markdown",
   "id": "53acee82-6ad5-461c-ac6a-0b3b4fde3607",
   "metadata": {},
   "source": [
    "Datos de los ganadore y nominados de los Premios Forqué."
   ]
  },
  {
   "cell_type": "code",
   "execution_count": 13,
   "id": "31cbad6b-3512-495b-b82b-2a53ff83cbe0",
   "metadata": {},
   "outputs": [],
   "source": [
    "def datos_forque():\n",
    "    \"\"\"\n",
    "    Extrae los títulos de la película ganadora y las nominadas al premio Forqué a mejor película.\n",
    "\n",
    "    A partir de un elemento beautiful soup ('html1') se realiza lo siguiente: obtiene títulos y crea\n",
    "    una lista con el ganador y el resto de títulos como nominados.\n",
    "\n",
    "    Returns:\n",
    "        tuple: Una tupla con 2 listas:\n",
    "            - tp (list): Lista de títulos de las películas ganadora y nominadas.\n",
    "            - gdor (list): Lista de etiquetas (\"ganador\", \"nominado\") para cada película en 'tp'.\n",
    "    \"\"\"\n",
    "    # Ganador y nominados\n",
    "    tp = [d.text.strip() for d in html1.find(id='forque_best_picture').parent.select('span.movie-title-link')]\n",
    "    gdor = ganador_nominado(tp)\n",
    "\n",
    "    return tp, gdor"
   ]
  },
  {
   "cell_type": "markdown",
   "id": "6abc19fd-a150-46ef-99ca-639ad1c0802c",
   "metadata": {},
   "source": [
    "## Rutina principal Premios Forqué"
   ]
  },
  {
   "cell_type": "markdown",
   "id": "d63b732c-dfb0-4fc5-b537-bc2c29e44e85",
   "metadata": {},
   "source": [
    "Iteración sobre cada año para obtener ganador y nominados."
   ]
  },
  {
   "cell_type": "code",
   "execution_count": 14,
   "id": "e083e62b-bb72-41b7-9655-9669ccd770d7",
   "metadata": {},
   "outputs": [],
   "source": [
    "# Listas iniciales\n",
    "ti_forque, ga_forque = [], []\n",
    "\n",
    "# Abrir driver y manejar cookies\n",
    "driver = webdriver.Chrome()\n",
    "driver.get(\"https://www.filmaffinity.com/es/award_data.php?award_id=forque\")\n",
    "manejar_cookies()\n",
    "\n",
    "# Cargar páginas años:\n",
    "# La edición de los Premos Forqué del año X se celebra en diciembre del año X, y corresponde con\n",
    "# la edición de los Premios Goya del año siguiente, celebrada en enero del año X+1.\n",
    "for ed in range(1996, 2024):\n",
    "    driver.get(\"https://www.filmaffinity.com/es/awards.php?award_id=forque&year=\" + str(ed))\n",
    "\n",
    "    # Espera 2 segundos\n",
    "    time.sleep(2)\n",
    "\n",
    "    # Datos Premios Feroz\n",
    "    html1 = BeautifulSoup(driver.page_source, 'html.parser')\n",
    "    tit_fq, gan_fq = datos_forque()\n",
    "\n",
    "    # Unión de listas Premios Feroz\n",
    "    ti_forque.extend(tit_fq)\n",
    "    ga_forque.extend(gan_fq)\n",
    "\n",
    "# Cerrar driver\n",
    "driver.close()"
   ]
  },
  {
   "cell_type": "markdown",
   "id": "14204aad-9b7f-4a54-af84-4ccb1347eb9b",
   "metadata": {},
   "source": [
    "## Unión de datos Forqué y dataset goyas_feroz"
   ]
  },
  {
   "cell_type": "markdown",
   "id": "1f44d584-5476-4091-9971-8b6bed360ddb",
   "metadata": {},
   "source": [
    "Coordinación y unión del dataset anterior y los datos Forqué."
   ]
  },
  {
   "cell_type": "code",
   "execution_count": 55,
   "id": "5ce6b4eb-cea4-4eb7-aa40-b77f17c95ffd",
   "metadata": {},
   "outputs": [],
   "source": [
    "# Coordinación con Premios Goya\n",
    "df = pd.read_csv('df_goyas_feroz_data.csv')\n",
    "fq = []\n",
    "tfq = [t.lower() for t in ti_forque]\n",
    "for i in df.titulo.tolist():\n",
    "    if i.lower() in tfq:\n",
    "        fq.extend([ga_forque[ti_forque.index(i)]])\n",
    "    else:\n",
    "        fq.extend([\"no_clasificado\"])\n",
    "\n",
    "# Unión Premios Feroz a Premios Goya\n",
    "df['forque'] = fq\n",
    "\n",
    "# Guardar tabla de datos Goya + Feroz\n",
    "df.to_csv('df_goyas_feroz_forque_data.csv', index=False)"
   ]
  },
  {
   "cell_type": "markdown",
   "id": "8f6ef41a-d592-4923-b271-b37d877d40be",
   "metadata": {},
   "source": [
    "# Datos Premios CEC"
   ]
  },
  {
   "cell_type": "markdown",
   "id": "97d79bc9-d342-48dc-92bf-b5afd0af1de2",
   "metadata": {},
   "source": [
    "La página oficial de los premios CEC tiene los datos poco estructurados y más difíciles de extraer:\n",
    "\n",
    "https://archivocine.com/index.php/premios/circulo-de-escritores-cinematograficos-cec\n",
    "\n",
    "La alternativa es la página de los Premios CEC que hay en Wikipedia:\n",
    "\n",
    "https://es.wikipedia.org/wiki/Anexo:Medalla_del_CEC_a_la_mejor_pel%C3%ADcula"
   ]
  },
  {
   "cell_type": "markdown",
   "id": "7b4a15ab-3843-4a95-91a0-b5c9e26e5e6d",
   "metadata": {},
   "source": [
    "## Datos desde Wikipedia"
   ]
  },
  {
   "cell_type": "markdown",
   "id": "7d8f5218-005a-44f5-97be-b34a4e19249b",
   "metadata": {},
   "source": [
    "La página de la Wikipedia no tiene elementos dinámicos, ni hay que logarse o manejar cookies, por tanto, uso requests y BeautifulSoup.\n",
    "\n",
    "Dado que estos datos los cargo de una tacada con request no hago ninguna pausa con time."
   ]
  },
  {
   "cell_type": "code",
   "execution_count": 17,
   "id": "e627b5d2-4876-4228-9b15-cf6a65f43ec6",
   "metadata": {},
   "outputs": [],
   "source": [
    "def tablas_wiki(link_wiki):\n",
    "    \"\"\"\n",
    "    La función extrae datos de tablas en una página de Wikipedia con la clase 'wikitable'.\n",
    "\n",
    "    Se carga una página web a través del enlace que se le pasa a la función como parámetro, luego \n",
    "    se analiza el HTML con BeautifulSoup para encontrar todas las tablas con la clase 'wikitable',\n",
    "    y organiza los datos en un diccionario con encabezados fijados, que son:\n",
    "    - Año\n",
    "    - Ganadora\n",
    "    - Director\n",
    "    - Finalistas\n",
    "    - Notas\n",
    "\n",
    "    Si una tabla no contiene un encabezado específico, se agrega un valor NaN a la lista correspondiente \n",
    "    que acumula los valores de la columna.\n",
    "\n",
    "    Parámetros:\n",
    "    ----------\n",
    "    link_wiki : str\n",
    "        URL de la página de Wikipedia desde la cual se extraen los datos de las tablas.\n",
    "\n",
    "    Retorna:\n",
    "    --------\n",
    "    dict: Un diccionario donde las claves son los encabezados fijos y los valores son listas\n",
    "          que contienen los datos extraídos de las tablas. Cada lista contiene los datos\n",
    "          correspondientes a cada encabezado de las tablas encontradas.\n",
    "    \"\"\"\n",
    "    # Página parseada\n",
    "    response = requests.get(link_wiki)\n",
    "    soup = BeautifulSoup(response.text, 'html.parser')\n",
    "\n",
    "    # Cargo todas las tablas con clase 'wikitable'\n",
    "    tablas = soup.find_all('table', {'class': 'wikitable'})\n",
    "\n",
    "    # Diccionario con encabezados fijos y como valores una lista vacía\n",
    "    dicc = {encabezado: [] for encabezado in ['Año', 'Ganadora', 'Director', 'Finalistas', 'Notas']}\n",
    "\n",
    "    \"\"\"TABLAS\"\"\"\n",
    "    # Recorremos todas las tablas de la página\n",
    "    for tabla in tablas:\n",
    "        filas = tabla.find_all('tr')\n",
    "\n",
    "        # Encabezados (primera fila de la tabla)\n",
    "        encabezados_tabla = [th.text.strip() for th in filas[0].find_all('th')]\n",
    "\n",
    "        \"\"\"FILAS\"\"\"\n",
    "        # Recorrer el resto de filas de la tabla (a partir de la fila de encabezado)\n",
    "        for fila in filas[1:]:\n",
    "            columnas = fila.find_all('td')\n",
    "\n",
    "            \"\"\"DATOS\"\"\"\n",
    "            # Procesar cada encabezado en dicc\n",
    "            for encabezado in dicc.keys():\n",
    "\n",
    "                if encabezado in encabezados_tabla:  # El encabezado sí está en la tabla.\n",
    "                    ind = encabezados_tabla.index(encabezado)  # Posición (columna) del encabezado en la tabla.\n",
    "\n",
    "                    if encabezado == \"Finalistas\":  # Extraer cada elemento <i> como lista de nombres.\n",
    "                        finalistas = [elem.text.strip() for elem in columnas[ind].find_all('i')]\n",
    "                        dicc[\"Finalistas\"].append(finalistas)\n",
    "\n",
    "                    else:  # Extraer el texto normalmente para otras columnas\n",
    "                        dicc[encabezado].append(columnas[ind].text.strip())\n",
    "\n",
    "                else:  # Se pone un nan si la tabla no tiene un encabezado concreto.\n",
    "                    dicc[encabezado].append(np.nan)\n",
    "\n",
    "    return dicc"
   ]
  },
  {
   "cell_type": "markdown",
   "id": "dee57817-8109-466b-8921-553030a2caa7",
   "metadata": {},
   "source": [
    "## Rutinas principal Premios CEC"
   ]
  },
  {
   "cell_type": "markdown",
   "id": "d1684168-b256-49cf-98a9-5b3f1928e818",
   "metadata": {},
   "source": [
    "Se pasa el link de los premios CEC en la wikipedia y se descargan todos los datos de las tablas. Se devuelve un diccionario."
   ]
  },
  {
   "cell_type": "code",
   "execution_count": 18,
   "id": "3912ce85-f796-4bef-b5f7-98d311bbbfd3",
   "metadata": {},
   "outputs": [],
   "source": [
    "# URL de Wikipedia con los premios CEC\n",
    "url_cec = 'https://es.wikipedia.org/wiki/Anexo:Medalla_del_CEC_a_la_mejor_pel%C3%ADcula'\n",
    "\n",
    "# Obtengo todas las ediciones de los Premios CEC\n",
    "cec_dicc = tablas_wiki (url_cec)"
   ]
  },
  {
   "cell_type": "markdown",
   "id": "acc0e59b-c664-4c3c-b153-79c67cf405eb",
   "metadata": {},
   "source": [
    "## Unión de datos CEC y el dataset goyas_feroz_forque"
   ]
  },
  {
   "cell_type": "markdown",
   "id": "527c120f-2e37-414b-a657-0c51793fb3af",
   "metadata": {},
   "source": [
    "Coordinación y unión de los datos almacenados hasta ahora y los datos de los premios CEC."
   ]
  },
  {
   "cell_type": "code",
   "execution_count": 57,
   "id": "1dfb4853-fd1a-4aed-8ef7-0dd7cee66583",
   "metadata": {},
   "outputs": [],
   "source": [
    "# Coordinación y unión con dataset anterior\n",
    "\n",
    "# Dataset hasta ahora\n",
    "df = pd.read_csv('df_goyas_feroz_forque_data.csv')\n",
    "\n",
    "# Lista de películas CEC ganadoras\n",
    "cec_win = [w.lower() for w in cec_dicc['Ganadora']]\n",
    "\n",
    "# Lista de películas CEC nominadas. Evitando añadir 'nan' controlando si es una lista.\n",
    "cec_nom = []\n",
    "for nominadas in cec_dicc['Finalistas']:\n",
    "    if isinstance(nominadas, list):\n",
    "        cec_nom.extend([n.lower() for n in nominadas])\n",
    "\n",
    "# Lista para la columna del dataframe\n",
    "cec_col = []\n",
    "\n",
    "for i in df.titulo.tolist():\n",
    "    if i.lower() in cec_win:\n",
    "        cec_col.append('ganador')\n",
    "    elif i.lower() in cec_nom:\n",
    "        cec_col.append('nominado')\n",
    "    else:\n",
    "        cec_col.append('no_clasificado')\n",
    "\n",
    "# Unión Premios CEC a Premios Goya\n",
    "df['cec'] = cec_col\n",
    "\n",
    "# Guardar tabla de datos Goya + CEC\n",
    "df.to_csv('df_goyas_feroz_forque_cec_data.csv', index=False)"
   ]
  },
  {
   "cell_type": "markdown",
   "id": "fece1af8-1cc8-4279-b4cb-fb7b4a83dbbe",
   "metadata": {},
   "source": [
    "# User Agent y otros comentarios"
   ]
  },
  {
   "cell_type": "markdown",
   "id": "3e028056-8185-4875-a61a-b2c1214f19f2",
   "metadata": {},
   "source": [
    "## User agent en Selenium"
   ]
  },
  {
   "cell_type": "markdown",
   "id": "6a2d1737-cd4e-4e64-881b-26653909f39b",
   "metadata": {},
   "source": [
    "Referencias para el código:\n",
    "\n",
    "https://developer.mozilla.org/es/docs/Web/HTTP/Headers/User-Agent\n",
    "\n",
    "https://www.tutorialspoint.com/how-to-get-useragent-information-in-selenium-web-driver"
   ]
  },
  {
   "cell_type": "code",
   "execution_count": 59,
   "id": "d6c32247-98cc-4305-9cd7-564443347d2d",
   "metadata": {},
   "outputs": [
    {
     "name": "stdout",
     "output_type": "stream",
     "text": [
      "User-Agent utilizado:  Mozilla/5.0 (Windows NT 10.0; Win64; x64) AppleWebKit/537.36 (KHTML, like Gecko) Chrome/130.0.0.0 Safari/537.36\n"
     ]
    }
   ],
   "source": [
    "# Utilizo una página web cualquiera ya que el user agent no va a cambiar y no he utilizado\n",
    "# diferentes user agent para este scraping.\n",
    "driver = webdriver.Chrome()\n",
    "driver.get(\"https://www.dataschool.io/\")\n",
    "time.sleep(5)\n",
    "\n",
    "# Ejecuto un script en la consola de JavaScript para obtener el User-Agent\n",
    "user_agent1 = driver.execute_script(\"return navigator.userAgent\")\n",
    "print(\"User-Agent utilizado: \", user_agent1)\n",
    "\n",
    "driver.close()"
   ]
  },
  {
   "cell_type": "markdown",
   "id": "57b77db9-390e-4f2b-af65-1927ee3c3681",
   "metadata": {},
   "source": [
    "## Navegación sin cabecera (headless)"
   ]
  },
  {
   "cell_type": "markdown",
   "id": "28dd8024-2cc5-49bb-ad47-7a2c8e1ca8e2",
   "metadata": {},
   "source": [
    "Esto se puede encontrar en la documentación de Selenium o en este vídedo:\n",
    "\n",
    "https://www.youtube.com/watch?app=desktop&v=DK51epkLHZk"
   ]
  },
  {
   "cell_type": "code",
   "execution_count": 60,
   "id": "18a7dc23-2d4b-4e1a-80da-dc6eec27def2",
   "metadata": {},
   "outputs": [
    {
     "name": "stdout",
     "output_type": "stream",
     "text": [
      "User-Agent utilizado:  Mozilla/5.0 (Windows NT 10.0; Win64; x64) AppleWebKit/537.36 (KHTML, like Gecko) HeadlessChrome/130.0.0.0 Safari/537.36\n"
     ]
    }
   ],
   "source": [
    "# Importación de opciones para quitar navegador\n",
    "from selenium.webdriver.chrome.options import Options\n",
    "\n",
    "# Configuración para ejecutar el navegador en modo headless\n",
    "chrome_options = Options()\n",
    "chrome_options.add_argument(\"--headless\")\n",
    "driver = webdriver.Chrome(options=chrome_options)\n",
    "\n",
    "# Obtengo de web y espera de carga\n",
    "driver.get(\"https://www.filmaffinity.com/es/award_data.php?award_id=goya\")\n",
    "time.sleep(5)\n",
    "\n",
    "# Ejecuto un script en la consola de JavaScript para obtener el User-Agent\n",
    "user_agent2 = driver.execute_script(\"return navigator.userAgent\")\n",
    "print(\"User-Agent utilizado: \", user_agent2)\n",
    "\n",
    "driver.close()"
   ]
  },
  {
   "cell_type": "markdown",
   "id": "d0c4d4b1-826c-412e-a946-1fdbe3a0c17e",
   "metadata": {},
   "source": [
    "## User agent en requests"
   ]
  },
  {
   "cell_type": "markdown",
   "id": "8e958560-5444-4d90-8fae-20ccde958ba1",
   "metadata": {},
   "source": [
    "Información aquí:\n",
    "\n",
    "https://realpython.com/python-requests/\n",
    "\n",
    "https://stackoverflow.com/questions/10606133/sending-user-agent-using-requests-library-in-python"
   ]
  },
  {
   "cell_type": "code",
   "execution_count": 61,
   "id": "d698d635-5b90-4bc4-93a4-b04ccf0469bb",
   "metadata": {},
   "outputs": [
    {
     "name": "stdout",
     "output_type": "stream",
     "text": [
      "User-Agent utilizado:  python-requests/2.32.3\n"
     ]
    }
   ],
   "source": [
    "# Página parseada\n",
    "response = requests.get(\"https://es.wikipedia.org/wiki/Anexo:Medalla_del_CEC_a_la_mejor_pel%C3%ADcula\")\n",
    "\n",
    "user_agent = response.request.headers['User-Agent']\n",
    "print(\"User-Agent utilizado: \", user_agent)"
   ]
  }
 ],
 "metadata": {
  "kernelspec": {
   "display_name": "Python 3 (ipykernel)",
   "language": "python",
   "name": "python3"
  },
  "language_info": {
   "codemirror_mode": {
    "name": "ipython",
    "version": 3
   },
   "file_extension": ".py",
   "mimetype": "text/x-python",
   "name": "python",
   "nbconvert_exporter": "python",
   "pygments_lexer": "ipython3",
   "version": "3.12.7"
  }
 },
 "nbformat": 4,
 "nbformat_minor": 5
}
